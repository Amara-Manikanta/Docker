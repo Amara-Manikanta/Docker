{
 "cells": [
  {
   "cell_type": "markdown",
   "id": "e37660d5-71c5-454e-a45a-34acc1c254ab",
   "metadata": {},
   "source": [
    "<h1>Docker</h1>"
   ]
  },
  {
   "cell_type": "markdown",
   "id": "9d98692c-cc34-421a-9c1a-b58818cd5da2",
   "metadata": {},
   "source": [
    "<h2>Installing Docker on Ubuntu </h2>\n",
    "1. Install prerequisites:\n",
    "    - sudo apt install ca-certificates curl gnupg lsb-release -y\n",
    "2. Add Docker’s official GPG key:\n",
    "    - sudo mkdir -p /etc/apt/keyrings\n",
    "curl -fsSL https://download.docker.com/linux/ubuntu/gpg | sudo gpg --dearmor -o /etc/apt/keyrings/docker.gpg\n",
    "3. Set up the repository:\n",
    "    - "
   ]
  },
  {
   "cell_type": "markdown",
   "id": "575e116e-9023-4bb3-b634-172dcbe9d2fa",
   "metadata": {},
   "source": [
    "<b>To completely uninstall Docker</b>\n",
    "1. Step 1: How to Stop docker services\n",
    "    - sudo systemctl stop docker\n",
    "    - sudo systemctl stop containerd\n",
    "2. Step2 : Remove Docker Packages\n",
    "    - sudo apt purge -y docker-ce docker-ce-cli containerd.io docker-buildx-plugin docker-\n",
    "compose-plugin\n",
    "3. Step 3: Delete Docker Files and Folders\n",
    "   This deletes all containers,images,volumes,Docker configuration files\n",
    "      \n",
    "    - sudo rm -rf /var/lib/docker\n",
    "    - sudo rm -rf /var/lib/containerd\n",
    "    - sudo rm -rf /etc/docker\n",
    "    - sudo rm -rf ~/.docker\n",
    "    \n",
    "    \n",
    "5. Step 4: Autoremove Leftover Dependencies\n",
    "    - sudo apt autoremove -y\n"
   ]
  },
  {
   "cell_type": "markdown",
   "id": "521df457-8550-4f7d-8845-605d3f714b46",
   "metadata": {},
   "source": []
  },
  {
   "cell_type": "markdown",
   "id": "cfea960f-4f31-46d2-9b1a-bbc2998fe0dc",
   "metadata": {},
   "source": []
  },
  {
   "cell_type": "markdown",
   "id": "1ce37fde-80e9-4bad-9a33-0fb1e1eb91cf",
   "metadata": {},
   "source": []
  },
  {
   "cell_type": "code",
   "execution_count": null,
   "id": "e8c1758a-f2e4-4a78-91d7-8d5a23d4da7e",
   "metadata": {},
   "outputs": [],
   "source": []
  }
 ],
 "metadata": {
  "kernelspec": {
   "display_name": "Python 3 (ipykernel)",
   "language": "python",
   "name": "python3"
  },
  "language_info": {
   "codemirror_mode": {
    "name": "ipython",
    "version": 3
   },
   "file_extension": ".py",
   "mimetype": "text/x-python",
   "name": "python",
   "nbconvert_exporter": "python",
   "pygments_lexer": "ipython3",
   "version": "3.10.5"
  }
 },
 "nbformat": 4,
 "nbformat_minor": 5
}
