{
 "cells": [
  {
   "cell_type": "markdown",
   "id": "e37660d5-71c5-454e-a45a-34acc1c254ab",
   "metadata": {},
   "source": [
    "<h1>Docker</h1>"
   ]
  },
  {
   "cell_type": "markdown",
   "id": "e2699ed1-4fbf-4e3a-aa19-34803e676629",
   "metadata": {},
   "source": [
    "<h2>🐳 What is Docker?</h2>\n",
    "\n",
    "- Docker is a tool that lets you package your app and its environment (like Python, libraries, databases) into something called a container.\n",
    "- A container is a lightweight, standalone unit that runs your app exactly the same on any system — whether it's your laptop, a server, or the cloud.\n"
   ]
  },
  {
   "cell_type": "markdown",
   "id": "aa44b42d-f24b-47b3-bf6b-7fd22bbee543",
   "metadata": {},
   "source": [
    "<h2>💡 Real-World Analogy</h2>\n",
    "\n",
    "Think of Docker like a shipping container:\n",
    "\n",
    "- You put your app inside it with everything it needs\n",
    "- You can move it anywhere (Windows, Linux, cloud)\n",
    "- It will work the same everywhere"
   ]
  },
  {
   "cell_type": "markdown",
   "id": "cfaa2292-e1f3-44dd-8b88-18d45f109139",
   "metadata": {},
   "source": [
    "<h2>⚙️ Why Use Docker?</h2>\n",
    "\n",
    "| Benefit           | Description                                          |\n",
    "| ----------------- | ---------------------------------------------------- |\n",
    "| 🔁 Consistency    | No more \"It works on my machine\" problems            |\n",
    "| ⚡ Fast            | Containers start in seconds                          |\n",
    "| 📦 Portable       | Move and run apps anywhere                           |\n",
    "| 🔒 Isolated       | Each app runs in its own container, safe from others |\n",
    "| 🔄 Easy to Update | Replace containers without reinstalling everything   |\n"
   ]
  },
  {
   "cell_type": "markdown",
   "id": "c229270f-3b05-4439-aff2-5972ce2f5a47",
   "metadata": {},
   "source": [
    "<h2>🧱 What's Inside a Docker Container?</h2>\n",
    "A container includes:\n",
    "\n",
    "1. Your app (e.g., a Python script)\n",
    "2. System tools and libraries (e.g., Python runtime, Flask)\n",
    "3. Configurations (env vars, ports, volumes)"
   ]
  },
  {
   "cell_type": "markdown",
   "id": "85d9f014-5967-485b-b175-6c4c5c0f56cc",
   "metadata": {},
   "source": [
    "<h2>📦 Container vs 🖥️ Virtual Machine (VM)</h2>\n",
    "\n",
    "| Feature             | 🐳 **Container**                | 🖥️ **Virtual Machine (VM)**              |\n",
    "| ------------------- | ------------------------------- | ----------------------------------------- |\n",
    "| **Boot Time**       | Seconds                         | Minutes                                   |\n",
    "| **Size**            | Lightweight (MBs)               | Heavy (GBs)                               |\n",
    "| **Isolation**       | Shares host OS kernel           | Full isolation with guest OS              |\n",
    "| **Performance**     | Near-native                     | Slower due to virtualization overhead     |\n",
    "| **OS per Instance** | Not needed (shares host OS)     | Each VM runs a full OS                    |\n",
    "| **Use Case**        | Microservices, fast deployments | Legacy apps, full OS emulation            |\n",
    "| **Resource Usage**  | Low (uses host kernel)          | High (dedicated memory, disk, CPU)        |\n",
    "| **Portability**     | Very portable                   | Less portable (hardware-specific configs) |\n",
    "| **Example Tool**    | Docker                          | VirtualBox, VMware, Oracle VM, Hyper-V    |\n"
   ]
  },
  {
   "cell_type": "code",
   "execution_count": null,
   "id": "2eb7a25c-4236-4934-ae71-50bf380c82f8",
   "metadata": {},
   "outputs": [],
   "source": []
  },
  {
   "cell_type": "code",
   "execution_count": null,
   "id": "29f6c5a1-b9ea-4114-8a6b-03c01c5ad071",
   "metadata": {},
   "outputs": [],
   "source": []
  },
  {
   "cell_type": "markdown",
   "id": "9d98692c-cc34-421a-9c1a-b58818cd5da2",
   "metadata": {},
   "source": [
    "<h2>🐳 Install Docker on Ubuntu (Step-by-Step)</h2>\n",
    "\n",
    "1. ## ✅ Install prerequisites:\n",
    "    - sudo apt install ca-certificates curl gnupg lsb-release -y\n",
    "2. ## ✅ Add Docker’s official GPG key:\n",
    "    - sudo mkdir -p /etc/apt/keyrings\n",
    "curl -fsSL https://download.docker.com/linux/ubuntu/gpg | sudo gpg --dearmor -o /etc/apt/keyrings/docker.gpg\n",
    "3. ## ✅ Set up the repository:\n",
    "    - echo \\\n",
    "  \"deb [arch=$(dpkg --print-architecture) signed-by=/etc/apt/keyrings/docker.gpg] https://download.docker.com/linux/ubuntu \\\n",
    "  $(lsb_release -cs) stable\" | \\\n",
    "  sudo tee /etc/apt/sources.list.d/docker.list > /dev/null\n",
    "4. ## ✅ Install Docker Engine:\n",
    "   - sudo apt update\n",
    "   - sudo apt install docker-ce docker-ce-cli containerd.io docker-buildx-plugin docker-compose-plugin -y\n",
    "     \n",
    "5. ## ✅ Test Docker Installation:\n",
    "    - sudo docker run hello-world\n"
   ]
  },
  {
   "cell_type": "markdown",
   "id": "575e116e-9023-4bb3-b634-172dcbe9d2fa",
   "metadata": {},
   "source": [
    "<h2>To completely uninstall Docker</h2>\n",
    "<h2>⚠️Warning: This will remove everything related to Docker.</h2>\n",
    "\n",
    "1. ## 🔥 Step 1: Stop Docker Services\n",
    "    - sudo systemctl stop docker\n",
    "    - sudo systemctl stop containerd\n",
    "2. ## 🧼 Step 2: Remove Docker Packages\n",
    "    - sudo apt purge -y docker-ce docker-ce-cli containerd.io docker-buildx-plugin docker-\n",
    "compose-plugin\n",
    "3. ## 🧹 Step 3: Delete Docker Files and Folders\n",
    "   This deletes all containers,images,volumes,Docker configuration files\n",
    "      \n",
    "    - sudo rm -rf /var/lib/docker\n",
    "    - sudo rm -rf /var/lib/containerd\n",
    "    - sudo rm -rf /etc/docker\n",
    "    - sudo rm -rf ~/.docker\n",
    "    \n",
    "    \n",
    "5. ## 📦 Step 4: Autoremove Leftover Dependencies\n",
    "    - sudo apt autoremove -y\n",
    "  \n",
    "6. ## ✅ Step 5: Confirm Docker is Gone\n",
    "   - docker --version\n",
    "\n"
   ]
  },
  {
   "cell_type": "markdown",
   "id": "521df457-8550-4f7d-8845-605d3f714b46",
   "metadata": {},
   "source": []
  },
  {
   "cell_type": "markdown",
   "id": "cfea960f-4f31-46d2-9b1a-bbc2998fe0dc",
   "metadata": {},
   "source": []
  },
  {
   "cell_type": "markdown",
   "id": "1ce37fde-80e9-4bad-9a33-0fb1e1eb91cf",
   "metadata": {},
   "source": []
  },
  {
   "cell_type": "code",
   "execution_count": null,
   "id": "e8c1758a-f2e4-4a78-91d7-8d5a23d4da7e",
   "metadata": {},
   "outputs": [],
   "source": []
  }
 ],
 "metadata": {
  "kernelspec": {
   "display_name": "Python 3 (ipykernel)",
   "language": "python",
   "name": "python3"
  },
  "language_info": {
   "codemirror_mode": {
    "name": "ipython",
    "version": 3
   },
   "file_extension": ".py",
   "mimetype": "text/x-python",
   "name": "python",
   "nbconvert_exporter": "python",
   "pygments_lexer": "ipython3",
   "version": "3.10.5"
  }
 },
 "nbformat": 4,
 "nbformat_minor": 5
}
